{
 "cells": [
  {
   "cell_type": "code",
   "execution_count": 1,
   "metadata": {},
   "outputs": [
    {
     "name": "stderr",
     "output_type": "stream",
     "text": [
      "/home/namachu/Documents/personal/loGar/logar/lib/python3.10/site-packages/tqdm/auto.py:21: TqdmWarning: IProgress not found. Please update jupyter and ipywidgets. See https://ipywidgets.readthedocs.io/en/stable/user_install.html\n",
      "  from .autonotebook import tqdm as notebook_tqdm\n"
     ]
    }
   ],
   "source": [
    "import os\n",
    "import time\n",
    "from dotenv import load_dotenv\n",
    "import pymongo\n",
    "from llama_index.core.vector_stores.types import VectorStore\n",
    "from typing import List\n",
    "from sentence_transformers import SentenceTransformer\n",
    "import numpy as np\n",
    "\n",
    "#Data Loaders\n",
    "from llama_index.core import SimpleDirectoryReader\n",
    "from llama_index.readers.github import GithubClient,GithubRepositoryReader\n",
    "from llama_index.readers.file import PDFReader\n",
    "from llama_index.core.node_parser import SentenceSplitter\n",
    "#Indices and Storage\n",
    "import pymongo\n",
    "from llama_index.storage.kvstore.mongodb import MongoDBKVStore as MongoDBCache\n",
    "from llama_index.storage.docstore.mongodb import MongoDocumentStore\n",
    "from llama_index.vector_stores.mongodb import MongoDBAtlasVectorSearch\n",
    "#Pipeline\n",
    "from llama_index.core.ingestion import IngestionPipeline, IngestionCache, DocstoreStrategy\n",
    "#Vector Embedding Model\n",
    "from llama_index.embeddings.huggingface import HuggingFaceEmbedding"
   ]
  },
  {
   "cell_type": "code",
   "execution_count": 5,
   "metadata": {},
   "outputs": [],
   "source": [
    "\n",
    "class SentenceTransformerEmbeddings:\n",
    "    \n",
    "    def __init__(self, model_name='all-MiniLM-L6-v2'):\n",
    "        self.model_name = model_name\n",
    "        self.model = SentenceTransformer(self.model_name)\n",
    "    \n",
    "    def get_embeddings(self, sentences):\n",
    "        return self.model.encode(sentences).tolist()\n",
    "    \n",
    "class MongoVectorStore(VectorStore):\n",
    "    def __init__(self, db_name, collection_name, host, port):\n",
    "        self.mongo_client = pymongo.MongoClient(host, port)\n",
    "        self.db = self.mongo_client[db_name]\n",
    "        self.collection = self.db[collection_name]\n",
    "        self.embedding_model = SentenceTransformerEmbeddings()\n",
    "\n",
    "    def add(self, texts: List[str]):\n",
    "        embeddings = self.embedding_model.get_embeddings(texts)\n",
    "        for line, embedding in zip(texts, embeddings):\n",
    "            self.collection.insert_one({\"text\": line, \"embedding\": embedding})\n",
    "\n",
    "    def cosine_similarity(self, vec1, vec2):\n",
    "        vec1 = np.array(vec1)\n",
    "        vec2 = np.array(vec2)\n",
    "        return np.dot(vec1, vec2) / (np.linalg.norm(vec1) * np.linalg.norm(vec2))\n",
    "\n",
    "    def similarity_search(self, query: str, k: int):\n",
    "        query_embedding = self.embedding_model.get_embeddings([query])[0]\n",
    "        all_docs = self.collection.find({})\n",
    "        \n",
    "        similarities = []\n",
    "        for doc in all_docs:\n",
    "            embedding = doc['embedding']\n",
    "            similarity = self.cosine_similarity(query_embedding, embedding)\n",
    "            similarities.append((doc['text'], similarity))\n",
    "\n",
    "        # Sort the results based on similarity in descending order\n",
    "        similarities.sort(key=lambda x: x[1], reverse=True)\n",
    "\n",
    "        # Return the top k most similar results\n",
    "        return [text for text, similarity in similarities[:k]]\n",
    "\n",
    "# Example usage\n",
    "vector_store = MongoVectorStore(\"test\", \"test\", \"localhost\", 27017)\n",
    "vector_store.add([\"This is a test\", \"Another test\", \"Another test 2\"])"
   ]
  },
  {
   "cell_type": "code",
   "execution_count": 6,
   "metadata": {},
   "outputs": [
    {
     "name": "stdout",
     "output_type": "stream",
     "text": [
      "['This is a test', 'This is a test']\n"
     ]
    }
   ],
   "source": [
    "\n",
    "# Search for similar texts\n",
    "results = vector_store.similarity_search(\"is\", 2)\n",
    "print(results)\n"
   ]
  },
  {
   "cell_type": "code",
   "execution_count": null,
   "metadata": {},
   "outputs": [],
   "source": [
    "\n",
    "print('Initialize')\n",
    "\n",
    "load_dotenv(os.path.join(os.path.dirname(__file__), 'config', '.env'))\n",
    "\n",
    "MONGODB_URL          = os.getenv('MONGODB_URL')\n",
    "MONGODB_DBNAME       = os.getenv('MONGODB_DBNAME')\n",
    "MONGODB_COLLECTION_NAME       = os.getenv('MONGODB_COLLECTION_NAME')\n",
    "MONGODB_CLIENT       = pymongo.MongoClient(MONGODB_URL)\n",
    "MONGODB_CACHE        = IngestionCache(cache=MongoDBCache(mongo_client=MONGODB_CLIENT, db_name = MONGODB_DBNAME))\n",
    "MONGODB_DOCSTORE     = MongoDocumentStore.from_uri(uri=MONGODB_URL, db_name = MONGODB_DBNAME)\n",
    "LOGS_DIR             = os.getenv('LOGS_DIR')\n",
    "EMBED_MODEL          = 'BAAI/bge-small-en-v1.5'\n",
    "EMBEDDINGS           = HuggingFaceEmbedding(model_name=EMBED_MODEL)\n",
    "print('->Ingestion Data Sources:')\n",
    "print('  LOGS_DIR(SimpleDirectoryReader)  = '+LOGS_DIR)\n",
    "print('->Embedding Model:')\n",
    "print('  HuggingFaceEmbedding','->',EMBED_MODEL)\n",
    "print('->Storage:')\n",
    "print('  MongoDB','->',MONGODB_DBNAME)\n",
    "\n",
    "def ingest_logs():\n",
    "  print('->Ingest Logs')\n",
    "  start         = time.time()\n",
    "  splitter      = SentenceSplitter(chunk_size=280, chunk_overlap=30)\n",
    "  documents     = SimpleDirectoryReader(LOGS_DIR, filename_as_id = True).load_data()\n",
    "  pipeline      = IngestionPipeline(\n",
    "                        transformations   = [splitter,EMBEDDINGS],\n",
    "                        vector_store      = MongoDBAtlasVectorSearch(\n",
    "                                              mongodb_client  = MONGODB_CLIENT,\n",
    "                                              db_name         = MONGODB_DBNAME,\n",
    "                                              collection_name = MONGODB_COLLECTION_NAME,\n",
    "                                              vector_index_name      = 'logs_idx'),\n",
    "                        cache             = MONGODB_CACHE,\n",
    "                        docstore          = MONGODB_DOCSTORE,\n",
    "                        docstore_strategy = DocstoreStrategy.UPSERTS,\n",
    "                  )\n",
    "  nodes         = pipeline.run(documents = documents)\n",
    "  end           = time.time()\n",
    "  print(f'  Total Time = {end-start}', f'Total Documents = {len(documents)}', f'Total Nodes = {len(nodes)}')\n",
    "\n",
    "ingest_logs()\n",
    "\n",
    "print('Manually create atlas vector search index:','logs_idx')"
   ]
  },
  {
   "cell_type": "code",
   "execution_count": null,
   "metadata": {},
   "outputs": [],
   "source": [
    "  def add(self, texts: List[str]):\n",
    "        \n",
    "        embeddings = self.embedding_model.get_embeddings(texts)\n",
    "        embeddings_np = np.array(embeddings).astype('float32')\n",
    "        \n",
    "        chunk_size = 600  \n",
    "        documents = []\n",
    "        for i in range(0, len(texts), chunk_size):\n",
    "            chunk_texts = texts[i:i + chunk_size]\n",
    "            chunk_embeddings = embeddings_np[i:i + chunk_size]\n",
    "\n",
    "            for line, embedding in zip(chunk_texts, chunk_embeddings):\n",
    "                embedding_list = embedding.tolist()\n",
    "                documents.append({\"text\": line, \"embedding\": embedding_list})\n",
    "        num_chunks = (len(embeddings_np) + chunk_size - 1) // chunk_size\n",
    "        chunks = [embeddings_np[i * chunk_size:(i + 1) * chunk_size] for i in range(num_chunks)]\n",
    "        return chunks\n",
    "        if documents:\n",
    "            self.collection.insert_many(documents, ordered=False)\n",
    "            self.faiss_idx.add(embeddings_np)\n"
   ]
  }
 ],
 "metadata": {
  "kernelspec": {
   "display_name": "logar",
   "language": "python",
   "name": "python3"
  },
  "language_info": {
   "codemirror_mode": {
    "name": "ipython",
    "version": 3
   },
   "file_extension": ".py",
   "mimetype": "text/x-python",
   "name": "python",
   "nbconvert_exporter": "python",
   "pygments_lexer": "ipython3",
   "version": "-1.-1.-1"
  }
 },
 "nbformat": 4,
 "nbformat_minor": 2
}
